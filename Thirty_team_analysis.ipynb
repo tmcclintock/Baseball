{
 "cells": [
  {
   "cell_type": "markdown",
   "metadata": {},
   "source": [
    "# Analytics\n",
    "\n",
    "Here I am going to pry into some baseball reference data that is available online. I'm going to try to answer the question of whether there are 3 players that, taken together, have played for all 30 teams."
   ]
  },
  {
   "cell_type": "code",
   "execution_count": 2,
   "metadata": {
    "collapsed": true
   },
   "outputs": [],
   "source": [
    "import pandas as pd\n",
    "import scipy as sp\n",
    "import matplotlib.pyplot as plt\n",
    "from matplotlib.ticker import FuncFormatter\n",
    "from bs4 import BeautifulSoup as bs\n",
    "from lxml import html\n",
    "import requests\n",
    "from urllib2 import urlopen\n",
    "import numpy as np"
   ]
  },
  {
   "cell_type": "markdown",
   "metadata": {},
   "source": [
    "First things first, we download the page of players with the most franchises played for."
   ]
  },
  {
   "cell_type": "code",
   "execution_count": 3,
   "metadata": {
    "collapsed": false
   },
   "outputs": [],
   "source": [
    "url = \"http://www.baseball-reference.com/leaders/leaders_most_franchises.shtml\"\n",
    "soup = bs(urlopen(url),\"html.parser\")"
   ]
  },
  {
   "cell_type": "code",
   "execution_count": 4,
   "metadata": {
    "collapsed": false
   },
   "outputs": [],
   "source": [
    "players = soup.find(\"table\",attrs={\"class\":\"stats_table sortable\"})\n",
    "headings = [th.get_text() for th in players.find(\"tr\").find_all(\"th\")]"
   ]
  },
  {
   "cell_type": "code",
   "execution_count": 5,
   "metadata": {
    "collapsed": false
   },
   "outputs": [],
   "source": [
    "pdata = []\n",
    "pdata.append(headings)\n",
    "for row in players.find_all(\"tr\")[1:]:\n",
    "    pdata_row = (td for td in row.find_all(\"td\"))\n",
    "    pdata.append(pdata_row)\n",
    "index = np.arange(len(pdata)-1)"
   ]
  },
  {
   "cell_type": "code",
   "execution_count": 6,
   "metadata": {
    "collapsed": false
   },
   "outputs": [
    {
     "data": {
      "text/html": [
       "<div>\n",
       "<table border=\"1\" class=\"dataframe\">\n",
       "  <thead>\n",
       "    <tr style=\"text-align: right;\">\n",
       "      <th></th>\n",
       "      <th>Player</th>\n",
       "      <th>Years Played</th>\n",
       "      <th>Franchises</th>\n",
       "      <th>Leagues</th>\n",
       "    </tr>\n",
       "  </thead>\n",
       "  <tbody>\n",
       "    <tr>\n",
       "      <th>0</th>\n",
       "      <td>&lt;td&gt;&lt;a href=\"/players/d/doteloc01.shtml\"&gt;Octav...</td>\n",
       "      <td>&lt;td align=\"RIGHT\"&gt;1999-2013&lt;/td&gt;</td>\n",
       "      <td>&lt;td align=\"RIGHT\"&gt;13&lt;/td&gt;</td>\n",
       "      <td>&lt;td align=\"RIGHT\"&gt;2&lt;/td&gt;</td>\n",
       "    </tr>\n",
       "    <tr>\n",
       "      <th>1</th>\n",
       "      <td>&lt;td&gt;&lt;a href=\"/players/m/morgami01.shtml\"&gt;Mike ...</td>\n",
       "      <td>&lt;td align=\"RIGHT\"&gt;1978-2002&lt;/td&gt;</td>\n",
       "      <td>&lt;td align=\"RIGHT\"&gt;12&lt;/td&gt;</td>\n",
       "      <td>&lt;td align=\"RIGHT\"&gt;2&lt;/td&gt;</td>\n",
       "    </tr>\n",
       "    <tr>\n",
       "      <th>2</th>\n",
       "      <td>&lt;td&gt;&lt;a href=\"/players/s/stairma01.shtml\"&gt;Matt ...</td>\n",
       "      <td>&lt;td align=\"RIGHT\"&gt;1992-2011&lt;/td&gt;</td>\n",
       "      <td>&lt;td align=\"RIGHT\"&gt;12&lt;/td&gt;</td>\n",
       "      <td>&lt;td align=\"RIGHT\"&gt;2&lt;/td&gt;</td>\n",
       "    </tr>\n",
       "    <tr>\n",
       "      <th>3</th>\n",
       "      <td>&lt;td&gt;&lt;a href=\"/players/v/villoro01.shtml\"&gt;Ron V...</td>\n",
       "      <td>&lt;td align=\"RIGHT\"&gt;1995-2009&lt;/td&gt;</td>\n",
       "      <td>&lt;td align=\"RIGHT\"&gt;12&lt;/td&gt;</td>\n",
       "      <td>&lt;td align=\"RIGHT\"&gt;2&lt;/td&gt;</td>\n",
       "    </tr>\n",
       "    <tr>\n",
       "      <th>4</th>\n",
       "      <td>&lt;td&gt;&lt;a href=\"/players/w/weyhigu01.shtml\"&gt;Gus W...</td>\n",
       "      <td>&lt;td align=\"RIGHT\"&gt;1887-1901&lt;/td&gt;</td>\n",
       "      <td>&lt;td align=\"RIGHT\"&gt;11&lt;/td&gt;</td>\n",
       "      <td>&lt;td align=\"RIGHT\"&gt;4&lt;/td&gt;</td>\n",
       "    </tr>\n",
       "  </tbody>\n",
       "</table>\n",
       "</div>"
      ],
      "text/plain": [
       "                                              Player  \\\n",
       "0  <td><a href=\"/players/d/doteloc01.shtml\">Octav...   \n",
       "1  <td><a href=\"/players/m/morgami01.shtml\">Mike ...   \n",
       "2  <td><a href=\"/players/s/stairma01.shtml\">Matt ...   \n",
       "3  <td><a href=\"/players/v/villoro01.shtml\">Ron V...   \n",
       "4  <td><a href=\"/players/w/weyhigu01.shtml\">Gus W...   \n",
       "\n",
       "                       Years Played                 Franchises  \\\n",
       "0  <td align=\"RIGHT\">1999-2013</td>  <td align=\"RIGHT\">13</td>   \n",
       "1  <td align=\"RIGHT\">1978-2002</td>  <td align=\"RIGHT\">12</td>   \n",
       "2  <td align=\"RIGHT\">1992-2011</td>  <td align=\"RIGHT\">12</td>   \n",
       "3  <td align=\"RIGHT\">1995-2009</td>  <td align=\"RIGHT\">12</td>   \n",
       "4  <td align=\"RIGHT\">1887-1901</td>  <td align=\"RIGHT\">11</td>   \n",
       "\n",
       "                    Leagues  \n",
       "0  <td align=\"RIGHT\">2</td>  \n",
       "1  <td align=\"RIGHT\">2</td>  \n",
       "2  <td align=\"RIGHT\">2</td>  \n",
       "3  <td align=\"RIGHT\">2</td>  \n",
       "4  <td align=\"RIGHT\">4</td>  "
      ]
     },
     "execution_count": 6,
     "metadata": {},
     "output_type": "execute_result"
    }
   ],
   "source": [
    "playerdf_raw = pd.DataFrame(data=pdata[1:][0:],index=index,columns=pdata[0][0:])\n",
    "playerdf_raw.head()"
   ]
  },
  {
   "cell_type": "code",
   "execution_count": 7,
   "metadata": {
    "collapsed": false
   },
   "outputs": [
    {
     "name": "stdout",
     "output_type": "stream",
     "text": [
      "<td><a href=\"/players/d/doteloc01.shtml\">Octavio Dotel</a></td>\n"
     ]
    }
   ],
   "source": [
    "print playerdf_raw['Player'][0]"
   ]
  },
  {
   "cell_type": "markdown",
   "metadata": {},
   "source": [
    "It's already ordered by franchises, and the webpages of each player is embedded within the player's names, which kind of sucks. So let's build a new table with everything correctly formatted."
   ]
  },
  {
   "cell_type": "code",
   "execution_count": 8,
   "metadata": {
    "collapsed": false
   },
   "outputs": [
    {
     "data": {
      "text/html": [
       "<div>\n",
       "<table border=\"1\" class=\"dataframe\">\n",
       "  <thead>\n",
       "    <tr style=\"text-align: right;\">\n",
       "      <th></th>\n",
       "      <th>Name</th>\n",
       "      <th>Page</th>\n",
       "      <th>Franchises</th>\n",
       "    </tr>\n",
       "  </thead>\n",
       "  <tbody>\n",
       "    <tr>\n",
       "      <th>0</th>\n",
       "      <td>Octavio Dotel</td>\n",
       "      <td>www.baseball-reference.com/players/d/doteloc01...</td>\n",
       "      <td>13</td>\n",
       "    </tr>\n",
       "    <tr>\n",
       "      <th>1</th>\n",
       "      <td>Mike Morgan</td>\n",
       "      <td>www.baseball-reference.com/players/m/morgami01...</td>\n",
       "      <td>12</td>\n",
       "    </tr>\n",
       "    <tr>\n",
       "      <th>2</th>\n",
       "      <td>Matt Stairs</td>\n",
       "      <td>www.baseball-reference.com/players/s/stairma01...</td>\n",
       "      <td>12</td>\n",
       "    </tr>\n",
       "    <tr>\n",
       "      <th>3</th>\n",
       "      <td>Ron Villone</td>\n",
       "      <td>www.baseball-reference.com/players/v/villoro01...</td>\n",
       "      <td>12</td>\n",
       "    </tr>\n",
       "    <tr>\n",
       "      <th>4</th>\n",
       "      <td>Gus Weyhing</td>\n",
       "      <td>www.baseball-reference.com/players/w/weyhigu01...</td>\n",
       "      <td>11</td>\n",
       "    </tr>\n",
       "  </tbody>\n",
       "</table>\n",
       "</div>"
      ],
      "text/plain": [
       "            Name                                               Page  \\\n",
       "0  Octavio Dotel  www.baseball-reference.com/players/d/doteloc01...   \n",
       "1    Mike Morgan  www.baseball-reference.com/players/m/morgami01...   \n",
       "2    Matt Stairs  www.baseball-reference.com/players/s/stairma01...   \n",
       "3    Ron Villone  www.baseball-reference.com/players/v/villoro01...   \n",
       "4    Gus Weyhing  www.baseball-reference.com/players/w/weyhigu01...   \n",
       "\n",
       "   Franchises  \n",
       "0          13  \n",
       "1          12  \n",
       "2          12  \n",
       "3          12  \n",
       "4          11  "
      ]
     },
     "execution_count": 8,
     "metadata": {},
     "output_type": "execute_result"
    }
   ],
   "source": [
    "pdata_better = []\n",
    "pdata_better.append([\"Name\",\"Page\",\"Franchises\"])\n",
    "base = \"www.baseball-reference.com\"\n",
    "for i in index:\n",
    "    pname = playerdf_raw['Player'][i].get_text()\n",
    "    ppage = base+str(playerdf_raw['Player'][i]).split(\"\\\"\")[1]\n",
    "    pfnum = int(playerdf_raw['Franchises'][i].get_text())\n",
    "    row = (pname,ppage,pfnum)\n",
    "    pdata_better.append(row)\n",
    "index = np.arange(len(pdata_better)-1)\n",
    "playerdf = pd.DataFrame(data=pdata_better[1:][0:],index=index,columns=pdata_better[0][0:])\n",
    "playerdf.head()"
   ]
  },
  {
   "cell_type": "markdown",
   "metadata": {},
   "source": [
    "Great! Now we have all the players, their pages, and their number of franchises. Next we have to write a function that takes in a webpage, pulls out the the team list and spits it back."
   ]
  },
  {
   "cell_type": "code",
   "execution_count": 9,
   "metadata": {
    "collapsed": false
   },
   "outputs": [
    {
     "name": "stdout",
     "output_type": "stream",
     "text": [
      "set([u'NYY', u'STL', u'LAD', u'DET', u'ATL', u'NYM', u'OAK', u'TOR', u'HOU', u'CHW', u'KCR', u'PIT', u'COL'])\n"
     ]
    }
   ],
   "source": [
    "def get_teams(page):\n",
    "    playersoup = bs(urlopen(\"http://\"+page),\"html.parser\")\n",
    "    pvbtable = playersoup.find(\"table\",attrs={\"class\":\"sortable stats_table row_summable\",\"id\":\"batting_value\"})\n",
    "    teams = set()\n",
    "    for row in pvbtable.find_all(\"tr\")[1:]:\n",
    "        if len(row.find_all(\"td\")) < 24: continue\n",
    "        year = row.find(\"td\").get_text()\n",
    "        #Sometimes rows are blank or there is extra text there\n",
    "        if len(year)==4: year = int(year)\n",
    "        elif len(year) < 4: continue\n",
    "        else: year = int(year[:4])\n",
    "        links = row.find(\"a\")\n",
    "        if len(links)>0 and year>1901: #Arbitrary cutoff\n",
    "            teams.add(links.get_text())\n",
    "    return teams\n",
    "output = get_teams(playerdf['Page'][0])\n",
    "print output"
   ]
  },
  {
   "cell_type": "markdown",
   "metadata": {},
   "source": [
    "Woohoo! Now we can get the teams for any player that we want. I will now design a function that takes in three sets, figures out unique teams among them, and then outputs some useful information. But first I'll write a function that checks a set for duplicate franchises and cleans it out."
   ]
  },
  {
   "cell_type": "code",
   "execution_count": 10,
   "metadata": {
    "collapsed": false
   },
   "outputs": [],
   "source": [
    "#Let's get some test data. Here are the top 3 most franchised players.\n",
    "teams1 = get_teams(playerdf['Page'][0]) #Dotel\n",
    "teams2 = get_teams(playerdf['Page'][23]) #Branyan\n",
    "teams3 = get_teams(playerdf['Page'][2]) #The third guy"
   ]
  },
  {
   "cell_type": "code",
   "execution_count": 11,
   "metadata": {
    "collapsed": false
   },
   "outputs": [],
   "source": [
    "#The latter abbreviation should always be the old one to be removed\n",
    "def clean_duplicates(teams):\n",
    "    if 'MON' in teams and 'WSN' in teams: teams.remove('MON')\n",
    "    if 'MIN' in teams and 'WHS' in teams: teams.remove('WHS')\n",
    "    if 'MIA' in teams and 'FLA' in teams: teams.remove('FLA')\n",
    "    if 'TBR' in teams and 'TBR' in teams: teams.remove('TBR')\n",
    "    if 'LAA' in teams and 'CAL' in teams: teams.remove('CAL')\n",
    "    if 'ANA' in teams and 'CAL' in teams: \n",
    "        teams.remove('ANA')\n",
    "        teams.remove('CAL')\n",
    "        teams.add('LAA')\n",
    "    if 'LAA' in teams and 'ANA' in teams: teams.remove('ANA')\n",
    "    if 'MIL' in teams and 'SEP' in teams: teams.remove('SEP')\n",
    "    if 'KCA' in teams and 'PHA' in teams: \n",
    "        teams.remove('PHA')\n",
    "        teams.remove('KCA')\n",
    "        teams.add('OAK')\n",
    "    if 'OAK' in teams and 'KCA' in teams: teams.remove('KCA')\n",
    "    if 'OAK' in teams and 'PHA' in teams: teams.remove('PHA')\n",
    "    if 'ATL' in teams and 'MLN' in teams: teams.remove('MLN')\n",
    "    if 'MLN' in teams and 'BSN' in teams: \n",
    "        teams.remove('BSN')\n",
    "        teams.remove('MLN')\n",
    "        teams.add('ATL')\n",
    "    if 'ATL' in teams and 'BSN' in teams: teams.remove('BSN')\n",
    "    if 'LAD' in teams and 'BRO' in teams: teams.remove('BRO')\n",
    "    #Houston had the same initials even when they were the Colt .45s\n",
    "    return teams\n",
    "\n",
    "def clean_all_teams(teams_all): #Used to get rid of duplicates en masse\n",
    "    for team in teams_all:\n",
    "        clean_duplicates(team)\n",
    "    return"
   ]
  },
  {
   "cell_type": "markdown",
   "metadata": {},
   "source": [
    "Let's make a function to combine team lists and then clean them of duplicates."
   ]
  },
  {
   "cell_type": "code",
   "execution_count": 12,
   "metadata": {
    "collapsed": false
   },
   "outputs": [
    {
     "name": "stdout",
     "output_type": "stream",
     "text": [
      "22\n"
     ]
    }
   ],
   "source": [
    "def get_intersection(teams1,teams2,teams3):\n",
    "    teams_all = set().union(teams1,teams2,teams3)\n",
    "    teams_all = clean_duplicates(teams_all)\n",
    "    return teams_all\n",
    "teams_all = get_intersection(teams1,teams2,set()) # Quick test\n",
    "print len(teams_all)"
   ]
  },
  {
   "cell_type": "markdown",
   "metadata": {},
   "source": [
    "# READ THIS BEFORE YOU PROCEED!!!\n",
    "\n",
    "It's time to assemble the master list of people's teams. \n",
    "\n",
    "If someone is running this to experiment, you should uncomment the if statement and only do a first small batch so that it doesn't take forever to run. It takes forever to run if you do the whole list."
   ]
  },
  {
   "cell_type": "code",
   "execution_count": 13,
   "metadata": {
    "collapsed": false
   },
   "outputs": [
    {
     "name": "stdout",
     "output_type": "stream",
     "text": [
      "[set([u'NYY', u'STL', u'LAD', u'DET', u'ATL', u'NYM', u'OAK', u'TOR', u'HOU', u'CHW', u'KCR', u'PIT', u'COL']), set([u'NYY', u'STL', u'MIN', u'TOR', u'OAK', u'CIN', u'TEX', u'LAD', u'CHC', u'SEA', u'ARI', u'BAL']), set([u'PHI', u'CHC', u'SDP', u'MIL', u'TOR', u'DET', u'BOS', u'OAK', u'WSN', u'TEX', u'MON', u'KCR', u'PIT'])]\n"
     ]
    }
   ],
   "source": [
    "player_teams = []\n",
    "for i,Page in zip(range(len(playerdf['Page'])),playerdf['Page']):\n",
    "    if i > 30: break #Comment this line out by adding a # to do it all\n",
    "    player_teams.append(get_teams(Page))\n",
    "print player_teams[:3]"
   ]
  },
  {
   "cell_type": "markdown",
   "metadata": {},
   "source": [
    "Do a triple loop over the player_teams list and figure out the largest set."
   ]
  },
  {
   "cell_type": "code",
   "execution_count": 15,
   "metadata": {
    "collapsed": false
   },
   "outputs": [
    {
     "name": "stdout",
     "output_type": "stream",
     "text": [
      "set([u'BOS', u'NYY', u'MIL', u'TOR', u'DET', u'ATL', u'NYM', u'OAK', u'CIN', u'WSN', u'HOU', u'CHW', u'FLA', u'COL', u'PHI', u'ARI', u'SDP', u'LAD', u'LAA', u'CLE', u'STL', u'CHC', u'SEA', u'KCR', u'SFG', u'PIT', u'TBD'])\n",
      "27 (0, 15, 23)\n",
      "Octavio Dotel | Julian Tavarez | Russell Branyan\n",
      "[(0, 15, 23), (0, 17, 23), (1, 3, 30), (2, 13, 16)]\n",
      "Octavio Dotel  |  Julian Tavarez  |  Russell Branyan\n",
      "Octavio Dotel  |  Todd Zeile  |  Russell Branyan\n",
      "Mike Morgan  |  Ron Villone  |  Roberto Hernandez\n",
      "Matt Stairs  |  Terry Mulholland  |  Rick White\n"
     ]
    }
   ],
   "source": [
    "clean_all_teams(player_teams)\n",
    "\n",
    "maxteams = 0 #This holds how many teams have been played on\n",
    "biggest_set = None #This holds the list of teams of the first biggest group found\n",
    "set_indices = None #This holds indices of the best set\n",
    "all_sets_indices = [] #This holds all the indices of the best sets\n",
    "all_sets_names = [] #This holds the names of all the best sets\n",
    "set_names = []\n",
    "for i in xrange(0,len(player_teams)):\n",
    "    for j in xrange(i+1,len(player_teams)):\n",
    "        for k in xrange(j+1,len(player_teams)):\n",
    "            combo = get_intersection(player_teams[i],player_teams[j],player_teams[k])\n",
    "            if len(combo) == maxteams:\n",
    "                all_sets_indices.append((i,j,k))\n",
    "                all_sets_names.append([playerdf['Name'][i],playerdf['Name'][j],playerdf['Name'][k]])\n",
    "\n",
    "            if len(combo) > maxteams:\n",
    "                maxteams = len(combo)\n",
    "                biggest_set = combo\n",
    "                set_indices = (i,j,k)\n",
    "                set_names =[playerdf['Name'][i],playerdf['Name'][j],playerdf['Name'][k]]\n",
    "                all_sets_indices = [set_indices]\n",
    "                all_sets_names = [set_names]\n",
    "\n",
    "print biggest_set\n",
    "print maxteams, set_indices\n",
    "print set_names[0]+\" | \"+set_names[1]+\" | \"+set_names[2]\n",
    "print best_set_indices\n",
    "for bsn in best_set_names:\n",
    "    print bsn[0],\" | \", bsn[1],\" | \",bsn[2]"
   ]
  },
  {
   "cell_type": "code",
   "execution_count": null,
   "metadata": {
    "collapsed": true
   },
   "outputs": [],
   "source": []
  }
 ],
 "metadata": {
  "kernelspec": {
   "display_name": "Python 2",
   "language": "python",
   "name": "python2"
  },
  "language_info": {
   "codemirror_mode": {
    "name": "ipython",
    "version": 2
   },
   "file_extension": ".py",
   "mimetype": "text/x-python",
   "name": "python",
   "nbconvert_exporter": "python",
   "pygments_lexer": "ipython2",
   "version": "2.7.11"
  }
 },
 "nbformat": 4,
 "nbformat_minor": 0
}
